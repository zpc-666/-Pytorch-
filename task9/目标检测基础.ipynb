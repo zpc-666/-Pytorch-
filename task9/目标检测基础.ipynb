{
 "cells": [
  {
   "cell_type": "markdown",
   "metadata": {
    "graffitiCellId": "id_hkbldjq",
    "id": "8397DCD3D04243F88F25751AB221C99E",
    "jupyter": {},
    "mdEditEnable": false,
    "slideshow": {
     "slide_type": "slide"
    },
    "tags": []
   },
   "source": [
    "# 9.3 目标检测和边界框"
   ]
  },
  {
   "cell_type": "code",
   "execution_count": 4,
   "metadata": {
    "graffitiCellId": "id_fm9iskh",
    "id": "1618756528DB4C518FAF47C7904A440A",
    "jupyter": {},
    "scrolled": false,
    "slideshow": {
     "slide_type": "slide"
    },
    "tags": []
   },
   "outputs": [],
   "source": [
    "%matplotlib inline\n",
    "from PIL import Image\n",
    "\n",
    "import sys\n",
    "sys.path.append('..')\n",
    "import d2lzh1981 as d2l"
   ]
  },
  {
   "cell_type": "code",
   "execution_count": 5,
   "metadata": {
    "graffitiCellId": "id_j7fclka",
    "id": "C9CAC60A6ADF4814AA1EFBB838B80254",
    "jupyter": {},
    "scrolled": false,
    "slideshow": {
     "slide_type": "slide"
    },
    "tags": []
   },
   "outputs": [
    {
     "data": {
      "text/html": [
       "<img src=\"https://cdn.kesci.com/rt_upload/C9CAC60A6ADF4814AA1EFBB838B80254/q5vrftusng.svg\">"
      ],
      "text/plain": [
       "<Figure size 252x180 with 1 Axes>"
      ]
     },
     "metadata": {
      "needs_background": "light"
     },
     "output_type": "display_data"
    }
   ],
   "source": [
    "# 展示用于目标检测的图\n",
    "d2l.set_figsize()\n",
    "img = Image.open('img/catdog.jpg')\n",
    "d2l.plt.imshow(img); # 加分号只显示图"
   ]
  },
  {
   "cell_type": "markdown",
   "metadata": {
    "graffitiCellId": "id_n61fsiz",
    "id": "4750E0470A374AAD89C5A983BF09EAD1",
    "jupyter": {},
    "mdEditEnable": false,
    "slideshow": {
     "slide_type": "slide"
    },
    "tags": []
   },
   "source": [
    "## 9.3.1 边界框"
   ]
  },
  {
   "cell_type": "code",
   "execution_count": 6,
   "metadata": {
    "graffitiCellId": "id_96o216d",
    "id": "B73D8B9880ED420FA06E1002AAC50981",
    "jupyter": {},
    "scrolled": false,
    "slideshow": {
     "slide_type": "slide"
    },
    "tags": []
   },
   "outputs": [],
   "source": [
    "# bbox是bounding box的缩写\n",
    "dog_bbox, cat_bbox = [60, 45, 378, 516], [400, 112, 655, 493]"
   ]
  },
  {
   "cell_type": "code",
   "execution_count": 7,
   "metadata": {
    "graffitiCellId": "id_y09udcv",
    "id": "DB52EF377A4C4F68873DFCF19D3C16CC",
    "jupyter": {},
    "scrolled": false,
    "slideshow": {
     "slide_type": "slide"
    },
    "tags": []
   },
   "outputs": [],
   "source": [
    "def bbox_to_rect(bbox, color):  # 本函数已保存在d2lzh_pytorch中方便以后使用\n",
    "    # 将边界框(左上x, 左上y, 右下x, 右下y)格式转换成matplotlib格式：\n",
    "    # ((左上x, 左上y), 宽, 高)\n",
    "    return d2l.plt.Rectangle(\n",
    "        xy=(bbox[0], bbox[1]), width=bbox[2]-bbox[0], height=bbox[3]-bbox[1],\n",
    "        fill=False, edgecolor=color, linewidth=2)"
   ]
  },
  {
   "cell_type": "code",
   "execution_count": 8,
   "metadata": {
    "graffitiCellId": "id_kgphoy1",
    "id": "D3875332DE3140BA88D963B12739617F",
    "jupyter": {},
    "scrolled": false,
    "slideshow": {
     "slide_type": "slide"
    },
    "tags": []
   },
   "outputs": [
    {
     "data": {
      "text/html": [
       "<img src=\"https://cdn.kesci.com/rt_upload/D3875332DE3140BA88D963B12739617F/q5vrg7oclo.svg\">"
      ],
      "text/plain": [
       "<Figure size 252x180 with 1 Axes>"
      ]
     },
     "metadata": {
      "needs_background": "light"
     },
     "output_type": "display_data"
    }
   ],
   "source": [
    "fig = d2l.plt.imshow(img)\n",
    "fig.axes.add_patch(bbox_to_rect(dog_bbox, 'blue'))\n",
    "fig.axes.add_patch(bbox_to_rect(cat_bbox, 'red'));"
   ]
  },
  {
   "cell_type": "markdown",
   "metadata": {
    "graffitiCellId": "id_66i83p8",
    "id": "0B157D1FA2FF44FABC8BEAB55270954F",
    "jupyter": {},
    "mdEditEnable": false,
    "slideshow": {
     "slide_type": "slide"
    },
    "tags": []
   },
   "source": [
    "# 9.4 锚框\n",
    "\n",
    "目标检测算法通常会在输入图像中采样大量的区域，然后判断这些区域中是否包含我们感兴趣的目标，并调整区域边缘从而更准确地预测目标的真实边界框（ground-truth bounding box）。不同的模型使用的区域采样方法可能不同。这里我们介绍其中的一种方法：它以每个像素为中心生成多个大小和宽高比（aspect ratio）不同的边界框。这些边界框被称为锚框（anchor box）。我们将在后面基于锚框实践目标检测。\n",
    "> 注: 建议想学习用PyTorch做检测的童鞋阅读一下仓库[a-PyTorch-Tutorial-to-Object-Detection](https://github.com/sgrvinod/a-PyTorch-Tutorial-to-Object-Detection)。\n",
    "\n",
    "先导入一下相关包。\n"
   ]
  },
  {
   "cell_type": "code",
   "execution_count": 9,
   "metadata": {
    "graffitiCellId": "id_1f8r8p0",
    "id": "F6A36EF6551F49309F60F53B6F2D23C7",
    "jupyter": {},
    "scrolled": false,
    "slideshow": {
     "slide_type": "slide"
    },
    "tags": []
   },
   "outputs": [
    {
     "name": "stdout",
     "output_type": "stream",
     "text": [
      "1.1.0\n"
     ]
    }
   ],
   "source": [
    "import numpy as np\n",
    "import math\n",
    "import torch\n",
    "import os\n",
    "IMAGE_DIR = 'img/'\n",
    "print(torch.__version__)"
   ]
  },
  {
   "cell_type": "markdown",
   "metadata": {
    "graffitiCellId": "id_r7hb3z0",
    "id": "AA44CF027C5A422F865DAA109E773A4E",
    "jupyter": {},
    "mdEditEnable": false,
    "slideshow": {
     "slide_type": "slide"
    },
    "tags": []
   },
   "source": [
    "## 9.4.1 生成多个锚框"
   ]
  },
  {
   "cell_type": "markdown",
   "metadata": {
    "graffitiCellId": "id_j0hr7at",
    "id": "E93C5C06547848018A990A9A1B0710E4",
    "jupyter": {},
    "mdEditEnable": false,
    "slideshow": {
     "slide_type": "slide"
    },
    "tags": []
   },
   "source": [
    "假设输入图像高为 $h$，宽为$w$。我们分别以图像的每个像素为中心生成不同形状的锚框。设大小为$s\\in (0,1]$且宽高比为$r > 0$，那么锚框的宽和高将分别为$ws\\sqrt{r}$和$hs/\\sqrt{r}$。当中心位置给定时，已知宽和高的锚框是确定的。\n",
    "\n",
    "下面我们分别设定好一组大小$s_1,\\ldots,s_n$和一组宽高比$r_1,\\ldots,r_m$。如果以每个像素为中心时使用所有的大小与宽高比的组合，输入图像将一共得到$whnm$个锚框。虽然这些锚框可能覆盖了所有的真实边界框，但计算复杂度容易过高。因此，我们通常只对包含$s_1$或$r_1$的大小与宽高比的组合感兴趣，即\n",
    "\n",
    "$$\n",
    "(s_1, r_1), (s_1, r_2), \\ldots, (s_1, r_m), (s_2, r_1), (s_3, r_1), \\ldots, (s_n, r_1).\n",
    "$$\n",
    "\n",
    "也就是说，以相同像素为中心的锚框的数量为$n+m-1$。对于整个输入图像，我们将一共生成$wh(n+m-1)$个锚框。\n",
    "\n",
    "以上生成锚框的方法已实现在`MultiBoxPrior`函数中。指定输入、一组大小和一组宽高比，该函数将返回输入的所有锚框。"
   ]
  },
  {
   "cell_type": "code",
   "execution_count": 10,
   "metadata": {
    "graffitiCellId": "id_0m38c9r",
    "id": "27C845C20AB44B2FB7D40936199E72D2",
    "jupyter": {},
    "scrolled": false,
    "slideshow": {
     "slide_type": "slide"
    },
    "tags": []
   },
   "outputs": [
    {
     "name": "stdout",
     "output_type": "stream",
     "text": [
      "w = 728, h = 561\n"
     ]
    }
   ],
   "source": [
    "d2l.set_figsize()\n",
    "img = Image.open(os.path.join(IMAGE_DIR, 'catdog.jpg'))\n",
    "w, h = img.size\n",
    "print(\"w = %d, h = %d\" % (w, h))\n",
    "\n",
    "# d2l.plt.imshow(img);  # 加分号只显示图"
   ]
  },
  {
   "cell_type": "code",
   "execution_count": 11,
   "metadata": {
    "graffitiCellId": "id_ddbxqxt",
    "id": "A1F0E2CCC9164DD184B5B896B7B2BC17",
    "jupyter": {},
    "scrolled": false,
    "slideshow": {
     "slide_type": "slide"
    },
    "tags": []
   },
   "outputs": [],
   "source": [
    "# 本函数已保存在d2lzh_pytorch包中方便以后使用\n",
    "def MultiBoxPrior(feature_map, sizes=[0.75, 0.5, 0.25], ratios=[1, 2, 0.5]):\n",
    "    \"\"\"\n",
    "    # 按照「9.4.1. 生成多个锚框」所讲的实现, anchor表示成(xmin, ymin, xmax, ymax).\n",
    "    https://zh.d2l.ai/chapter_computer-vision/anchor.html\n",
    "    Args:\n",
    "        feature_map: torch tensor, Shape: [N, C, H, W].\n",
    "        sizes: List of sizes (0~1) of generated MultiBoxPriores. \n",
    "        ratios: List of aspect ratios (non-negative) of generated MultiBoxPriores. \n",
    "    Returns:\n",
    "        anchors of shape (1, num_anchors, 4). 由于batch里每个都一样, 所以第一维为1\n",
    "    \"\"\"\n",
    "    pairs = [] # pair of (size, sqrt(ration))\n",
    "    \n",
    "    # 生成n + m -1个框\n",
    "    for r in ratios:\n",
    "        pairs.append([sizes[0], math.sqrt(r)])\n",
    "    for s in sizes[1:]:\n",
    "        pairs.append([s, math.sqrt(ratios[0])])\n",
    "    \n",
    "    pairs = np.array(pairs)\n",
    "    \n",
    "    # 生成相对于坐标中心点的框（x,y,x,y）\n",
    "    ss1 = pairs[:, 0] * pairs[:, 1] # size * sqrt(ration)\n",
    "    ss2 = pairs[:, 0] / pairs[:, 1] # size / sqrt(ration)\n",
    "    \n",
    "    base_anchors = np.stack([-ss1, -ss2, ss1, ss2], axis=1) / 2\n",
    "    \n",
    "    #将坐标点和anchor组合起来生成hw（n+m-1）个框输出\n",
    "    h, w = feature_map.shape[-2:]\n",
    "    shifts_x = np.arange(0, w) / w\n",
    "    shifts_y = np.arange(0, h) / h\n",
    "    shift_x, shift_y = np.meshgrid(shifts_x, shifts_y)\n",
    "    \n",
    "    shift_x = shift_x.reshape(-1)\n",
    "    shift_y = shift_y.reshape(-1)\n",
    "    \n",
    "    shifts = np.stack((shift_x, shift_y, shift_x, shift_y), axis=1)\n",
    "    anchors = shifts.reshape((-1, 1, 4)) + base_anchors.reshape((1, -1, 4))\n",
    "    \n",
    "    return torch.tensor(anchors, dtype=torch.float32).view(1, -1, 4)"
   ]
  },
  {
   "cell_type": "code",
   "execution_count": 12,
   "metadata": {
    "graffitiCellId": "id_v691kg0",
    "id": "0A6F451B5C9D409BBF406F48B67A58EF",
    "jupyter": {},
    "scrolled": false,
    "slideshow": {
     "slide_type": "slide"
    },
    "tags": []
   },
   "outputs": [
    {
     "data": {
      "text/plain": [
       "torch.Size([1, 2042040, 4])"
      ]
     },
     "execution_count": 12,
     "metadata": {},
     "output_type": "execute_result"
    }
   ],
   "source": [
    "X = torch.Tensor(1, 3, h, w)  # 构造输入数据\n",
    "Y = MultiBoxPrior(X, sizes=[0.75, 0.5, 0.25], ratios=[1, 2, 0.5])\n",
    "Y.shape\n"
   ]
  },
  {
   "cell_type": "markdown",
   "metadata": {
    "graffitiCellId": "id_jc7hpds",
    "id": "6C1B7D28BBCB4D9DA905F380EDA3BE1E",
    "jupyter": {},
    "mdEditEnable": false,
    "slideshow": {
     "slide_type": "slide"
    },
    "tags": []
   },
   "source": [
    "\n",
    "我们看到，返回锚框变量`y`的形状为（1，锚框个数，4）。将锚框变量`y`的形状变为（图像高，图像宽，以相同像素为中心的锚框个数，4）后，我们就可以通过指定像素位置来获取所有以该像素为中心的锚框了。下面的例子里我们访问以（250，250）为中心的第一个锚框。它有4个元素，分别是锚框左上角的$x$和$y$轴坐标和右下角的$x$和$y$轴坐标，其中$x$和$y$轴的坐标值分别已除以图像的宽和高，因此值域均为0和1之间。\n"
   ]
  },
  {
   "cell_type": "code",
   "execution_count": 13,
   "metadata": {
    "graffitiCellId": "id_tlhm5sm",
    "id": "0A93AC47957A43868235C9431E757EA5",
    "jupyter": {},
    "scrolled": false,
    "slideshow": {
     "slide_type": "slide"
    },
    "tags": []
   },
   "outputs": [
    {
     "data": {
      "text/plain": [
       "tensor([-0.0316,  0.0706,  0.7184,  0.8206])"
      ]
     },
     "execution_count": 13,
     "metadata": {},
     "output_type": "execute_result"
    }
   ],
   "source": [
    "# 展示某个像素点的anchor\n",
    "boxes = Y.reshape((h, w, 5, 4))\n",
    "boxes[250, 250, 0, :]# * torch.tensor([w, h, w, h], dtype=torch.float32)\n",
    "# 第一个size和ratio分别为0.75和1, 则宽高均为0.75 = 0.7184 + 0.0316 = 0.8206 - 0.0706"
   ]
  },
  {
   "cell_type": "markdown",
   "metadata": {
    "graffitiCellId": "id_8ix1b72",
    "id": "A61011D1BB9A4CC99B6B7638B4E41489",
    "jupyter": {},
    "mdEditEnable": false,
    "slideshow": {
     "slide_type": "slide"
    },
    "tags": []
   },
   "source": [
    "> 可以验证一下以上输出对不对：size和ratio分别为0.75和1, 则(归一化后的)宽高均为0.75, 所以输出是正确的（0.75 = 0.7184 + 0.0316 = 0.8206 - 0.0706）。\n",
    "\n",
    "为了描绘图像中以某个像素为中心的所有锚框，我们先定义`show_bboxes`函数以便在图像上画出多个边界框。"
   ]
  },
  {
   "cell_type": "code",
   "execution_count": 14,
   "metadata": {
    "graffitiCellId": "id_nc2s0ua",
    "id": "BE181FA7968F41619C3E86B1C5FEA8FA",
    "jupyter": {},
    "scrolled": false,
    "slideshow": {
     "slide_type": "slide"
    },
    "tags": []
   },
   "outputs": [],
   "source": [
    "# 本函数已保存在dd2lzh_pytorch包中方便以后使用\n",
    "def show_bboxes(axes, bboxes, labels=None, colors=None):\n",
    "    def _make_list(obj, default_values=None):\n",
    "        if obj is None:\n",
    "            obj = default_values\n",
    "        elif not isinstance(obj, (list, tuple)):\n",
    "            obj = [obj]\n",
    "        return obj\n",
    "\n",
    "    labels = _make_list(labels)\n",
    "    colors = _make_list(colors, ['b', 'g', 'r', 'm', 'c'])\n",
    "    for i, bbox in enumerate(bboxes):\n",
    "        color = colors[i % len(colors)]\n",
    "        rect = d2l.bbox_to_rect(bbox.detach().cpu().numpy(), color)\n",
    "        axes.add_patch(rect)\n",
    "        if labels and len(labels) > i:\n",
    "            text_color = 'k' if color == 'w' else 'w'\n",
    "            axes.text(rect.xy[0], rect.xy[1], labels[i],\n",
    "                      va='center', ha='center', fontsize=6, color=text_color,\n",
    "                      bbox=dict(facecolor=color, lw=0))"
   ]
  },
  {
   "cell_type": "markdown",
   "metadata": {
    "graffitiCellId": "id_wnjstn6",
    "id": "B3B29AA7DCB94AC1A80792E5A57AC319",
    "jupyter": {},
    "mdEditEnable": false,
    "slideshow": {
     "slide_type": "slide"
    },
    "tags": []
   },
   "source": [
    "刚刚我们看到，变量`boxes`中$x$和$y$轴的坐标值分别已除以图像的宽和高。在绘图时，我们需要恢复锚框的原始坐标值，并因此定义了变量`bbox_scale`。现在，我们可以画出图像中以(250, 250)为中心的所有锚框了。可以看到，大小为0.75且宽高比为1的锚框较好地覆盖了图像中的狗。"
   ]
  },
  {
   "cell_type": "code",
   "execution_count": 15,
   "metadata": {
    "graffitiCellId": "id_47p177b",
    "id": "28FFDB57F6CB43A69163325A4D136A48",
    "jupyter": {},
    "scrolled": false,
    "slideshow": {
     "slide_type": "slide"
    },
    "tags": []
   },
   "outputs": [
    {
     "data": {
      "text/html": [
       "<img src=\"https://cdn.kesci.com/rt_upload/28FFDB57F6CB43A69163325A4D136A48/q5vrnk8tho.svg\">"
      ],
      "text/plain": [
       "<Figure size 252x180 with 1 Axes>"
      ]
     },
     "metadata": {
      "needs_background": "light"
     },
     "output_type": "display_data"
    }
   ],
   "source": [
    "# 展示 250 250像素点的anchor\n",
    "d2l.set_figsize()\n",
    "fig = d2l.plt.imshow(img)\n",
    "bbox_scale = torch.tensor([[w, h, w, h]], dtype=torch.float32)\n",
    "show_bboxes(fig.axes, boxes[250, 250, :, :] * bbox_scale,\n",
    "            ['s=0.75, r=1', 's=0.75, r=2', 's=0.75, r=0.5', 's=0.5, r=1', 's=0.25, r=1'])"
   ]
  },
  {
   "cell_type": "markdown",
   "metadata": {
    "graffitiCellId": "id_kxinbbk",
    "id": "E97D198893014D269A056372142A806C",
    "jupyter": {},
    "mdEditEnable": false,
    "slideshow": {
     "slide_type": "slide"
    },
    "tags": []
   },
   "source": [
    "## 9.4.2 交并比"
   ]
  },
  {
   "attachments": {},
   "cell_type": "markdown",
   "metadata": {
    "graffitiCellId": "id_0gx2u7a",
    "id": "219EF652C7BC4B84804B9055F9FAA551",
    "jupyter": {},
    "mdEditEnable": false,
    "slideshow": {
     "slide_type": "slide"
    },
    "tags": []
   },
   "source": [
    "我们刚刚提到某个锚框较好地覆盖了图像中的狗。如果该目标的真实边界框已知，这里的“较好”该如何量化呢？一种直观的方法是衡量锚框和真实边界框之间的相似度。我们知道，Jaccard系数（Jaccard index）可以衡量两个集合的相似度。给定集合$\\mathcal{A}$和$\\mathcal{B}$，它们的Jaccard系数即二者交集大小除以二者并集大小：\n",
    "\n",
    "$$\n",
    "J(\\mathcal{A},\\mathcal{B}) = \\frac{\\left|\\mathcal{A} \\cap \\mathcal{B}\\right|}{\\left| \\mathcal{A} \\cup \\mathcal{B}\\right|}.\n",
    "$$\n",
    "\n",
    "\n",
    "实际上，我们可以把边界框内的像素区域看成是像素的集合。如此一来，我们可以用两个边界框的像素集合的Jaccard系数衡量这两个边界框的相似度。当衡量两个边界框的相似度时，我们通常将Jaccard系数称为交并比（Intersection over Union，IoU），即两个边界框相交面积与相并面积之比，如图9.2所示。交并比的取值范围在0和1之间：0表示两个边界框无重合像素，1表示两个边界框相等。\n",
    "\n",
    "\n",
    "![Image Name](https://cdn.kesci.com/upload/image/q5vs9jkw9f.png?imageView2/0/w/640/h/640)\n"
   ]
  },
  {
   "cell_type": "code",
   "execution_count": 16,
   "metadata": {
    "graffitiCellId": "id_cyce0zq",
    "id": "D762F50137C345EB8B18418E11F9198C",
    "jupyter": {},
    "scrolled": false,
    "slideshow": {
     "slide_type": "slide"
    },
    "tags": []
   },
   "outputs": [],
   "source": [
    "# 以下函数已保存在d2lzh_pytorch包中方便以后使用\n",
    "def compute_intersection(set_1, set_2):\n",
    "    \"\"\"\n",
    "    计算anchor之间的交集\n",
    "    Args:\n",
    "        set_1: a tensor of dimensions (n1, 4), anchor表示成(xmin, ymin, xmax, ymax)\n",
    "        set_2: a tensor of dimensions (n2, 4), anchor表示成(xmin, ymin, xmax, ymax)\n",
    "    Returns:\n",
    "        intersection of each of the boxes in set 1 with respect to each of the boxes in set 2, shape: (n1, n2)\n",
    "    \"\"\"\n",
    "    # PyTorch auto-broadcasts singleton dimensions\n",
    "    lower_bounds = torch.max(set_1[:, :2].unsqueeze(1), set_2[:, :2].unsqueeze(0))  # (n1, n2, 2)\n",
    "    upper_bounds = torch.min(set_1[:, 2:].unsqueeze(1), set_2[:, 2:].unsqueeze(0))  # (n1, n2, 2)\n",
    "    intersection_dims = torch.clamp(upper_bounds - lower_bounds, min=0)  # (n1, n2, 2)\n",
    "    return intersection_dims[:, :, 0] * intersection_dims[:, :, 1]  # (n1, n2)\n",
    "\n",
    "\n",
    "def compute_jaccard(set_1, set_2):\n",
    "    \"\"\"\n",
    "    计算anchor之间的Jaccard系数(IoU)\n",
    "    Args:\n",
    "        set_1: a tensor of dimensions (n1, 4), anchor表示成(xmin, ymin, xmax, ymax)\n",
    "        set_2: a tensor of dimensions (n2, 4), anchor表示成(xmin, ymin, xmax, ymax)\n",
    "    Returns:\n",
    "        Jaccard Overlap of each of the boxes in set 1 with respect to each of the boxes in set 2, shape: (n1, n2)\n",
    "    \"\"\"\n",
    "    # Find intersections\n",
    "    intersection = compute_intersection(set_1, set_2)  # (n1, n2)\n",
    "\n",
    "    # Find areas of each box in both sets\n",
    "    areas_set_1 = (set_1[:, 2] - set_1[:, 0]) * (set_1[:, 3] - set_1[:, 1])  # (n1)\n",
    "    areas_set_2 = (set_2[:, 2] - set_2[:, 0]) * (set_2[:, 3] - set_2[:, 1])  # (n2)\n",
    "\n",
    "    # Find the union\n",
    "    # PyTorch auto-broadcasts singleton dimensions\n",
    "    union = areas_set_1.unsqueeze(1) + areas_set_2.unsqueeze(0) - intersection  # (n1, n2)\n",
    "\n",
    "    return intersection / union  # (n1, n2)"
   ]
  },
  {
   "attachments": {},
   "cell_type": "markdown",
   "metadata": {
    "graffitiCellId": "id_dexi436",
    "id": "BA19ABB6788D463E880223B6932C1769",
    "jupyter": {},
    "mdEditEnable": false,
    "slideshow": {
     "slide_type": "slide"
    },
    "tags": []
   },
   "source": [
    "## 9.4.3 标注训练集的锚框\n",
    "\n",
    "在训练集中，我们将每个锚框视为一个训练样本。为了训练目标检测模型，我们需要为每个锚框标注两类标签：一是锚框所含目标的类别，简称类别；二是真实边界框相对锚框的偏移量，简称偏移量（offset）。在目标检测时，我们首先生成多个锚框，然后为每个锚框预测类别以及偏移量，接着根据预测的偏移量调整锚框位置从而得到预测边界框，最后筛选需要输出的预测边界框。\n",
    "\n",
    "\n",
    "我们知道，在目标检测的训练集中，每个图像已标注了真实边界框的位置以及所含目标的类别。在生成锚框之后，我们主要依据与锚框相似的真实边界框的位置和类别信息为锚框标注。那么，该如何为锚框分配与其相似的真实边界框呢？\n",
    "\n",
    "\n",
    "假设图像中锚框分别为$A_1, A_2, \\ldots, A_{n_a}$，真实边界框分别为$B_1, B_2, \\ldots, B_{n_b}$，且$n_a \\geq n_b$。定义矩阵$\\boldsymbol{X} \\in \\mathbb{R}^{n_a \\times n_b}$，其中第$i$行第$j$列的元素$x_{ij}$为锚框$A_i$与真实边界框$B_j$的交并比。\n",
    "首先，我们找出矩阵$\\boldsymbol{X}$中最大元素，并将该元素的行索引与列索引分别记为$i_1,j_1$。我们为锚框$A_{i_1}$分配真实边界框$B_{j_1}$。显然，锚框$A_{i_1}$和真实边界框$B_{j_1}$在所有的“锚框—真实边界框”的配对中相似度最高。接下来，将矩阵$\\boldsymbol{X}$中第$i_1$行和第$j_1$列上的所有元素丢弃。找出矩阵$\\boldsymbol{X}$中剩余的最大元素，并将该元素的行索引与列索引分别记为$i_2,j_2$。我们为锚框$A_{i_2}$分配真实边界框$B_{j_2}$，再将矩阵$\\boldsymbol{X}$中第$i_2$行和第$j_2$列上的所有元素丢弃。此时矩阵$\\boldsymbol{X}$中已有两行两列的元素被丢弃。\n",
    "依此类推，直到矩阵$\\boldsymbol{X}$中所有$n_b$列元素全部被丢弃。这个时候，我们已为$n_b$个锚框各分配了一个真实边界框。\n",
    "接下来，我们只遍历剩余的$n_a - n_b$个锚框：给定其中的锚框$A_i$，根据矩阵$\\boldsymbol{X}$的第$i$行找到与$A_i$交并比最大的真实边界框$B_j$，且只有当该交并比大于预先设定的阈值时，才为锚框$A_i$分配真实边界框$B_j$。\n",
    "\n",
    "\n",
    "如图9.3（左）所示，假设矩阵$\\boldsymbol{X}$中最大值为$x_{23}$，我们将为锚框$A_2$分配真实边界框$B_3$。然后，丢弃矩阵中第2行和第3列的所有元素，找出剩余阴影部分的最大元素$x_{71}$，为锚框$A_7$分配真实边界框$B_1$。接着如图9.3（中）所示，丢弃矩阵中第7行和第1列的所有元素，找出剩余阴影部分的最大元素$x_{54}$，为锚框$A_5$分配真实边界框$B_4$。最后如图9.3（右）所示，丢弃矩阵中第5行和第4列的所有元素，找出剩余阴影部分的最大元素$x_{92}$，为锚框$A_9$分配真实边界框$B_2$。之后，我们只需遍历除去$A_2, A_5, A_7, A_9$的剩余锚框，并根据阈值判断是否为剩余锚框分配真实边界框。\n",
    "\n",
    "![Image Name](https://cdn.kesci.com/upload/image/q5vsc1hcg8.png?imageView2/0/w/640/h/640)\n",
    "\n",
    "现在我们可以标注锚框的类别和偏移量了。如果一个锚框$A$被分配了真实边界框$B$，将锚框$A$的类别设为$B$的类别，并根据$B$和$A$的中心坐标的相对位置以及两个框的相对大小为锚框$A$标注偏移量。由于数据集中各个框的位置和大小各异，因此这些相对位置和相对大小通常需要一些特殊变换，才能使偏移量的分布更均匀从而更容易拟合。设锚框$A$及其被分配的真实边界框$B$的中心坐标分别为$(x_a, y_a)$和$(x_b, y_b)$，$A$和$B$的宽分别为$w_a$和$w_b$，高分别为$h_a$和$h_b$，一个常用的技巧是将$A$的偏移量标注为\n",
    "\n",
    "$$\n",
    "\\left( \\frac{ \\frac{x_b - x_a}{w_a} - \\mu_x }{\\sigma_x},\n",
    "\\frac{ \\frac{y_b - y_a}{h_a} - \\mu_y }{\\sigma_y},\n",
    "\\frac{ \\log \\frac{w_b}{w_a} - \\mu_w }{\\sigma_w},\n",
    "\\frac{ \\log \\frac{h_b}{h_a} - \\mu_h }{\\sigma_h}\\right),\n",
    "$$\n",
    "\n",
    "其中常数的默认值为$\\mu_x = \\mu_y = \\mu_w = \\mu_h = 0, \\sigma_x=\\sigma_y=0.1, \\sigma_w=\\sigma_h=0.2$。如果一个锚框没有被分配真实边界框，我们只需将该锚框的类别设为背景。类别为背景的锚框通常被称为负类锚框，其余则被称为正类锚框。\n",
    "\n",
    "\n",
    "下面演示一个具体的例子。我们为读取的图像中的猫和狗定义真实边界框，其中第一个元素为类别（0为狗，1为猫），剩余4个元素分别为左上角的$x$和$y$轴坐标以及右下角的$x$和$y$轴坐标（值域在0到1之间）。这里通过左上角和右下角的坐标构造了5个需要标注的锚框，分别记为$A_0, \\ldots, A_4$（程序中索引从0开始）。先画出这些锚框与真实边界框在图像中的位置。"
   ]
  },
  {
   "cell_type": "code",
   "execution_count": 17,
   "metadata": {
    "graffitiCellId": "id_dc3fn4d",
    "id": "EE440F7DF1044779979C9EE9F4906CDC",
    "jupyter": {},
    "scrolled": false,
    "slideshow": {
     "slide_type": "slide"
    },
    "tags": []
   },
   "outputs": [
    {
     "data": {
      "text/html": [
       "<img src=\"https://cdn.kesci.com/rt_upload/EE440F7DF1044779979C9EE9F4906CDC/q5vscwrldv.svg\">"
      ],
      "text/plain": [
       "<Figure size 252x180 with 1 Axes>"
      ]
     },
     "metadata": {
      "needs_background": "light"
     },
     "output_type": "display_data"
    }
   ],
   "source": [
    "bbox_scale = torch.tensor((w, h, w, h), dtype=torch.float32)\n",
    "ground_truth = torch.tensor([[0, 0.1, 0.08, 0.52, 0.92],\n",
    "                            [1, 0.55, 0.2, 0.9, 0.88]])\n",
    "anchors = torch.tensor([[0, 0.1, 0.2, 0.3], [0.15, 0.2, 0.4, 0.4],\n",
    "                    [0.63, 0.05, 0.88, 0.98], [0.66, 0.45, 0.8, 0.8],\n",
    "                    [0.57, 0.3, 0.92, 0.9]])\n",
    "\n",
    "fig = d2l.plt.imshow(img)\n",
    "show_bboxes(fig.axes, ground_truth[:, 1:] * bbox_scale, ['dog', 'cat'], 'k')\n",
    "show_bboxes(fig.axes, anchors * bbox_scale, ['0', '1', '2', '3', '4']);"
   ]
  },
  {
   "cell_type": "code",
   "execution_count": 18,
   "metadata": {
    "graffitiCellId": "id_s0tnkxy",
    "id": "82C2532A165E49E38882A610B323F41C",
    "jupyter": {},
    "scrolled": false,
    "slideshow": {
     "slide_type": "slide"
    },
    "tags": []
   },
   "outputs": [
    {
     "data": {
      "text/plain": [
       "tensor([[0.0536, 0.0000],\n",
       "        [0.1417, 0.0000],\n",
       "        [0.0000, 0.5657],\n",
       "        [0.0000, 0.2059],\n",
       "        [0.0000, 0.7459]])"
      ]
     },
     "execution_count": 18,
     "metadata": {},
     "output_type": "execute_result"
    }
   ],
   "source": [
    "compute_jaccard(anchors, ground_truth[:, 1:]) # 验证一下写的compute_jaccard函数"
   ]
  },
  {
   "cell_type": "markdown",
   "metadata": {
    "graffitiCellId": "id_iwux97l",
    "id": "5DF900CB5F5C4E62B1A29F25C0631CA6",
    "jupyter": {},
    "mdEditEnable": false,
    "slideshow": {
     "slide_type": "slide"
    },
    "tags": []
   },
   "source": [
    "\n",
    "下面实现`MultiBoxTarget`函数来为锚框标注类别和偏移量。该函数将背景类别设为0，并令从零开始的目标类别的整数索引自加1（1为狗，2为猫）。\n"
   ]
  },
  {
   "cell_type": "code",
   "execution_count": 19,
   "metadata": {
    "graffitiCellId": "id_t0k8dlx",
    "id": "F752953425DE4B9FAFB90D799B98EFA4",
    "jupyter": {},
    "scrolled": false,
    "slideshow": {
     "slide_type": "slide"
    },
    "tags": []
   },
   "outputs": [],
   "source": [
    "# 以下函数已保存在d2lzh_pytorch包中方便以后使用\n",
    "def assign_anchor(bb, anchor, jaccard_threshold=0.5):\n",
    "    \"\"\"\n",
    "    # 按照「9.4.1. 生成多个锚框」图9.3所讲为每个anchor分配真实的bb, anchor表示成归一化(xmin, ymin, xmax, ymax).\n",
    "    https://zh.d2l.ai/chapter_computer-vision/anchor.html\n",
    "    Args:\n",
    "        bb: 真实边界框(bounding box), shape:（nb, 4）\n",
    "        anchor: 待分配的anchor, shape:（na, 4）\n",
    "        jaccard_threshold: 预先设定的阈值\n",
    "    Returns:\n",
    "        assigned_idx: shape: (na, ), 每个anchor分配的真实bb对应的索引, 若未分配任何bb则为-1\n",
    "    \"\"\"\n",
    "    na = anchor.shape[0] \n",
    "    nb = bb.shape[0]\n",
    "    jaccard = compute_jaccard(anchor, bb).detach().cpu().numpy() # shape: (na, nb)\n",
    "    assigned_idx = np.ones(na) * -1  # 存放标签初始全为-1\n",
    "    \n",
    "    # 先为每个bb分配一个anchor(不要求满足jaccard_threshold)\n",
    "    jaccard_cp = jaccard.copy()\n",
    "    for j in range(nb):\n",
    "        i = np.argmax(jaccard_cp[:, j])\n",
    "        assigned_idx[i] = j\n",
    "        jaccard_cp[i, :] = float(\"-inf\") # 赋值为负无穷, 相当于去掉这一行\n",
    "     \n",
    "    # 处理还未被分配的anchor, 要求满足jaccard_threshold\n",
    "    for i in range(na):\n",
    "        if assigned_idx[i] == -1:\n",
    "            j = np.argmax(jaccard[i, :])\n",
    "            if jaccard[i, j] >= jaccard_threshold:\n",
    "                assigned_idx[i] = j\n",
    "                \n",
    "    return torch.tensor(assigned_idx, dtype=torch.long)\n",
    "\n",
    "\n",
    "def xy_to_cxcy(xy):\n",
    "    \"\"\"\n",
    "    将(x_min, y_min, x_max, y_max)形式的anchor转换成(center_x, center_y, w, h)形式的.\n",
    "    https://github.com/sgrvinod/a-PyTorch-Tutorial-to-Object-Detection/blob/master/utils.py\n",
    "    Args:\n",
    "        xy: bounding boxes in boundary coordinates, a tensor of size (n_boxes, 4)\n",
    "    Returns: \n",
    "        bounding boxes in center-size coordinates, a tensor of size (n_boxes, 4)\n",
    "    \"\"\"\n",
    "    return torch.cat([(xy[:, 2:] + xy[:, :2]) / 2,  # c_x, c_y\n",
    "                      xy[:, 2:] - xy[:, :2]], 1)  # w, h\n",
    "\n",
    "def MultiBoxTarget(anchor, label):\n",
    "    \"\"\"\n",
    "    # 按照「9.4.1. 生成多个锚框」所讲的实现, anchor表示成归一化(xmin, ymin, xmax, ymax).\n",
    "    https://zh.d2l.ai/chapter_computer-vision/anchor.html\n",
    "    Args:\n",
    "        anchor: torch tensor, 输入的锚框, 一般是通过MultiBoxPrior生成, shape:（1，锚框总数，4）\n",
    "        label: 真实标签, shape为(bn, 每张图片最多的真实锚框数, 5)\n",
    "               第二维中，如果给定图片没有这么多锚框, 可以先用-1填充空白, 最后一维中的元素为[类别标签, 四个坐标值]\n",
    "    Returns:\n",
    "        列表, [bbox_offset, bbox_mask, cls_labels]\n",
    "        bbox_offset: 每个锚框的标注偏移量，形状为(bn，锚框总数*4)\n",
    "        bbox_mask: 形状同bbox_offset, 每个锚框的掩码, 一一对应上面的偏移量, 负类锚框(背景)对应的掩码均为0, 正类锚框的掩码均为1\n",
    "        cls_labels: 每个锚框的标注类别, 其中0表示为背景, 形状为(bn，锚框总数)\n",
    "    \"\"\"\n",
    "    assert len(anchor.shape) == 3 and len(label.shape) == 3\n",
    "    bn = label.shape[0]\n",
    "    \n",
    "    def MultiBoxTarget_one(anc, lab, eps=1e-6):\n",
    "        \"\"\"\n",
    "        MultiBoxTarget函数的辅助函数, 处理batch中的一个\n",
    "        Args:\n",
    "            anc: shape of (锚框总数, 4)\n",
    "            lab: shape of (真实锚框数, 5), 5代表[类别标签, 四个坐标值]\n",
    "            eps: 一个极小值, 防止log0\n",
    "        Returns:\n",
    "            offset: (锚框总数*4, )\n",
    "            bbox_mask: (锚框总数*4, ), 0代表背景, 1代表非背景\n",
    "            cls_labels: (锚框总数, 4), 0代表背景\n",
    "        \"\"\"\n",
    "        an = anc.shape[0]\n",
    "        # 变量的意义\n",
    "        assigned_idx = assign_anchor(lab[:, 1:], anc) # (锚框总数, )\n",
    "        print(\"a: \",  assigned_idx.shape)\n",
    "        print(assigned_idx)\n",
    "        bbox_mask = ((assigned_idx >= 0).float().unsqueeze(-1)).repeat(1, 4) # (锚框总数, 4)\n",
    "        print(\"b: \" , bbox_mask.shape)\n",
    "        print(bbox_mask)\n",
    "\n",
    "        cls_labels = torch.zeros(an, dtype=torch.long) # 0表示背景\n",
    "        assigned_bb = torch.zeros((an, 4), dtype=torch.float32) # 所有anchor对应的bb坐标\n",
    "        for i in range(an):\n",
    "            bb_idx = assigned_idx[i]\n",
    "            if bb_idx >= 0: # 即非背景\n",
    "                cls_labels[i] = lab[bb_idx, 0].long().item() + 1 # 注意要加一\n",
    "                assigned_bb[i, :] = lab[bb_idx, 1:]\n",
    "        # 如何计算偏移量\n",
    "        center_anc = xy_to_cxcy(anc) # (center_x, center_y, w, h)\n",
    "        center_assigned_bb = xy_to_cxcy(assigned_bb)\n",
    "\n",
    "        offset_xy = 10.0 * (center_assigned_bb[:, :2] - center_anc[:, :2]) / center_anc[:, 2:]\n",
    "        offset_wh = 5.0 * torch.log(eps + center_assigned_bb[:, 2:] / center_anc[:, 2:])\n",
    "        offset = torch.cat([offset_xy, offset_wh], dim = 1) * bbox_mask # (锚框总数, 4)\n",
    "\n",
    "        return offset.view(-1), bbox_mask.view(-1), cls_labels\n",
    "    # 组合输出\n",
    "    batch_offset = []\n",
    "    batch_mask = []\n",
    "    batch_cls_labels = []\n",
    "    for b in range(bn):\n",
    "        offset, bbox_mask, cls_labels = MultiBoxTarget_one(anchor[0, :, :], label[b, :, :])\n",
    "        \n",
    "        batch_offset.append(offset)\n",
    "        batch_mask.append(bbox_mask)\n",
    "        batch_cls_labels.append(cls_labels)\n",
    "    \n",
    "    bbox_offset = torch.stack(batch_offset)\n",
    "    bbox_mask = torch.stack(batch_mask)\n",
    "    cls_labels = torch.stack(batch_cls_labels)\n",
    "    \n",
    "    return [bbox_offset, bbox_mask, cls_labels]"
   ]
  },
  {
   "cell_type": "markdown",
   "metadata": {
    "graffitiCellId": "id_3c4rh47",
    "id": "EA40302D9DC54A038D0991E2B548F865",
    "jupyter": {},
    "mdEditEnable": false,
    "slideshow": {
     "slide_type": "slide"
    },
    "tags": []
   },
   "source": [
    "我们通过`unsqueeze`函数为锚框和真实边界框添加样本维。"
   ]
  },
  {
   "cell_type": "code",
   "execution_count": 20,
   "metadata": {
    "graffitiCellId": "id_p5u2kh5",
    "id": "962B76B2F8774902AF4F0FC50CE0FE78",
    "jupyter": {},
    "scrolled": false,
    "slideshow": {
     "slide_type": "slide"
    },
    "tags": []
   },
   "outputs": [
    {
     "name": "stdout",
     "output_type": "stream",
     "text": [
      "a:  torch.Size([5])\n",
      "tensor([-1,  0,  1, -1,  1])\n",
      "b:  torch.Size([5, 4])\n",
      "tensor([[0., 0., 0., 0.],\n",
      "        [1., 1., 1., 1.],\n",
      "        [1., 1., 1., 1.],\n",
      "        [0., 0., 0., 0.],\n",
      "        [1., 1., 1., 1.]])\n"
     ]
    }
   ],
   "source": [
    "labels = MultiBoxTarget(anchors.unsqueeze(dim=0),\n",
    "                        ground_truth.unsqueeze(dim=0))"
   ]
  },
  {
   "cell_type": "markdown",
   "metadata": {
    "graffitiCellId": "id_80n1mvs",
    "id": "D4F6080AAADB4E828BD2A0B23D5F4B76",
    "jupyter": {},
    "mdEditEnable": false,
    "slideshow": {
     "slide_type": "slide"
    },
    "tags": []
   },
   "source": [
    "返回的结果里有3项，均为`Tensor`。第三项表示为锚框标注的类别。"
   ]
  },
  {
   "cell_type": "code",
   "execution_count": 21,
   "metadata": {
    "graffitiCellId": "id_qq5gg2i",
    "id": "134F85B4431D4FD783496D7B5B33048C",
    "jupyter": {},
    "scrolled": false,
    "slideshow": {
     "slide_type": "slide"
    },
    "tags": []
   },
   "outputs": [
    {
     "data": {
      "text/plain": [
       "tensor([[0, 1, 2, 0, 2]])"
      ]
     },
     "execution_count": 21,
     "metadata": {},
     "output_type": "execute_result"
    }
   ],
   "source": [
    "labels[2]"
   ]
  },
  {
   "cell_type": "markdown",
   "metadata": {
    "graffitiCellId": "id_kh52x1f",
    "id": "C436E21C93874BD3AA8DA8C9B56FC73A",
    "jupyter": {},
    "mdEditEnable": false,
    "slideshow": {
     "slide_type": "slide"
    },
    "tags": []
   },
   "source": [
    "我们根据锚框与真实边界框在图像中的位置来分析这些标注的类别。首先，在所有的“锚框—真实边界框”的配对中，锚框$A_4$与猫的真实边界框的交并比最大，因此锚框$A_4$的类别标注为猫。不考虑锚框$A_4$或猫的真实边界框，在剩余的“锚框—真实边界框”的配对中，最大交并比的配对为锚框$A_1$和狗的真实边界框，因此锚框$A_1$的类别标注为狗。接下来遍历未标注的剩余3个锚框：与锚框$A_0$交并比最大的真实边界框的类别为狗，但交并比小于阈值（默认为0.5），因此类别标注为背景；与锚框$A_2$交并比最大的真实边界框的类别为猫，且交并比大于阈值，因此类别标注为猫；与锚框$A_3$交并比最大的真实边界框的类别为猫，但交并比小于阈值，因此类别标注为背景。\n",
    "\n",
    "\n",
    "返回值的第二项为掩码（mask）变量，形状为(批量大小, 锚框个数的四倍)。掩码变量中的元素与每个锚框的4个偏移量一一对应。\n",
    "由于我们不关心对背景的检测，有关负类的偏移量不应影响目标函数。通过按元素乘法，掩码变量中的0可以在计算目标函数之前过滤掉负类的偏移量。"
   ]
  },
  {
   "cell_type": "code",
   "execution_count": 22,
   "metadata": {
    "graffitiCellId": "id_h5f7kko",
    "id": "9719FFAC72674C3A84B5CC95479E7844",
    "jupyter": {},
    "scrolled": false,
    "slideshow": {
     "slide_type": "slide"
    },
    "tags": []
   },
   "outputs": [
    {
     "data": {
      "text/plain": [
       "tensor([[0., 0., 0., 0., 1., 1., 1., 1., 1., 1., 1., 1., 0., 0., 0., 0., 1., 1.,\n",
       "         1., 1.]])"
      ]
     },
     "execution_count": 22,
     "metadata": {},
     "output_type": "execute_result"
    }
   ],
   "source": [
    "labels[1]"
   ]
  },
  {
   "cell_type": "markdown",
   "metadata": {
    "graffitiCellId": "id_f9p7m6x",
    "id": "98EC2DB94F7443FBAB3295CC50C624BC",
    "jupyter": {},
    "mdEditEnable": false,
    "slideshow": {
     "slide_type": "slide"
    },
    "tags": []
   },
   "source": [
    "返回的第一项是为每个锚框标注的四个偏移量，其中负类锚框的偏移量标注为0。"
   ]
  },
  {
   "cell_type": "code",
   "execution_count": 23,
   "metadata": {
    "graffitiCellId": "id_473p2sy",
    "id": "61A3474A4EE44D8FAF829A23DDBAA208",
    "jupyter": {},
    "scrolled": false,
    "slideshow": {
     "slide_type": "slide"
    },
    "tags": []
   },
   "outputs": [
    {
     "data": {
      "text/plain": [
       "tensor([[-0.0000e+00, -0.0000e+00, -0.0000e+00, -0.0000e+00,  1.4000e+00,\n",
       "          1.0000e+01,  2.5940e+00,  7.1754e+00, -1.2000e+00,  2.6882e-01,\n",
       "          1.6824e+00, -1.5655e+00, -0.0000e+00, -0.0000e+00, -0.0000e+00,\n",
       "         -0.0000e+00, -5.7143e-01, -1.0000e+00,  4.1723e-06,  6.2582e-01]])"
      ]
     },
     "execution_count": 23,
     "metadata": {},
     "output_type": "execute_result"
    }
   ],
   "source": [
    "labels[0]"
   ]
  },
  {
   "cell_type": "markdown",
   "metadata": {
    "graffitiCellId": "id_y2qa1qt",
    "id": "4C21C5BE5BDC4D308E9C55E1D5250B16",
    "jupyter": {},
    "mdEditEnable": false,
    "slideshow": {
     "slide_type": "slide"
    },
    "tags": []
   },
   "source": [
    "## 9.4.4. 输出预测边界框"
   ]
  },
  {
   "cell_type": "markdown",
   "metadata": {
    "graffitiCellId": "id_80q8t71",
    "id": "11D878A176D5451193A08B7E46F331CB",
    "jupyter": {},
    "mdEditEnable": false,
    "slideshow": {
     "slide_type": "slide"
    },
    "tags": []
   },
   "source": [
    "在模型预测阶段，我们先为图像生成多个锚框，并为这些锚框一一预测类别和偏移量。随后，我们根据锚框及其预测偏移量得到预测边界框。当锚框数量较多时，同一个目标上可能会输出较多相似的预测边界框。为了使结果更加简洁，我们可以移除相似的预测边界框。常用的方法叫作非极大值抑制（non-maximum suppression，NMS）。\n",
    "\n",
    "我们来描述一下非极大值抑制的工作原理。对于一个预测边界框$B$，模型会计算各个类别的预测概率。设其中最大的预测概率为$p$，该概率所对应的类别即$B$的预测类别。我们也将$p$称为预测边界框$B$的置信度。在同一图像上，我们将预测类别非背景的预测边界框按置信度从高到低排序，得到列表$L$。从$L$中选取置信度最高的预测边界框$B_1$作为基准，将所有与$B_1$的交并比大于某阈值的非基准预测边界框从$L$中移除。这里的阈值是预先设定的超参数。此时，$L$保留了置信度最高的预测边界框并移除了与其相似的其他预测边界框。\n",
    "接下来，从$L$中选取置信度第二高的预测边界框$B_2$作为基准，将所有与$B_2$的交并比大于某阈值的非基准预测边界框从$L$中移除。重复这一过程，直到$L$中所有的预测边界框都曾作为基准。此时$L$中任意一对预测边界框的交并比都小于阈值。最终，输出列表$L$中的所有预测边界框。\n",
    "\n",
    "下面来看一个具体的例子。先构造4个锚框。简单起见，我们假设预测偏移量全是0：预测边界框即锚框。最后，我们构造每个类别的预测概率。"
   ]
  },
  {
   "cell_type": "code",
   "execution_count": 24,
   "metadata": {
    "graffitiCellId": "id_7ob7ov2",
    "id": "CD3C5B1557B746119EC3C1FD04D7AF54",
    "jupyter": {},
    "scrolled": false,
    "slideshow": {
     "slide_type": "slide"
    },
    "tags": []
   },
   "outputs": [],
   "source": [
    "anchors = torch.tensor([[0.1, 0.08, 0.52, 0.92], [0.08, 0.2, 0.56, 0.95],\n",
    "                        [0.15, 0.3, 0.62, 0.91], [0.55, 0.2, 0.9, 0.88]])\n",
    "offset_preds = torch.tensor([0.0] * (4 * len(anchors)))\n",
    "cls_probs = torch.tensor([[0., 0., 0., 0.,],  # 背景的预测概率\n",
    "                          [0.9, 0.8, 0.7, 0.1],  # 狗的预测概率\n",
    "                          [0.1, 0.2, 0.3, 0.9]])  # 猫的预测概率"
   ]
  },
  {
   "cell_type": "markdown",
   "metadata": {
    "graffitiCellId": "id_e2utkiq",
    "id": "F650A19C73B94AD6BDACBA3E98FF167A",
    "jupyter": {},
    "mdEditEnable": false,
    "slideshow": {
     "slide_type": "slide"
    },
    "tags": []
   },
   "source": [
    "在图像上打印预测边界框和它们的置信度。"
   ]
  },
  {
   "cell_type": "code",
   "execution_count": 25,
   "metadata": {
    "graffitiCellId": "id_rhs2pam",
    "id": "9A3523CA158741A9BE840976BD280FCD",
    "jupyter": {},
    "scrolled": false,
    "slideshow": {
     "slide_type": "slide"
    },
    "tags": []
   },
   "outputs": [
    {
     "data": {
      "text/html": [
       "<img src=\"https://cdn.kesci.com/rt_upload/9A3523CA158741A9BE840976BD280FCD/q5vse9q5nx.svg\">"
      ],
      "text/plain": [
       "<Figure size 252x180 with 1 Axes>"
      ]
     },
     "metadata": {
      "needs_background": "light"
     },
     "output_type": "display_data"
    }
   ],
   "source": [
    "fig = d2l.plt.imshow(img)\n",
    "show_bboxes(fig.axes, anchors * bbox_scale,\n",
    "            ['dog=0.9', 'dog=0.8', 'dog=0.7', 'cat=0.9'])"
   ]
  },
  {
   "cell_type": "markdown",
   "metadata": {
    "graffitiCellId": "id_pz0xz8f",
    "id": "2D54C8E798D3435384131A4C2E8508B4",
    "jupyter": {},
    "mdEditEnable": false,
    "slideshow": {
     "slide_type": "slide"
    },
    "tags": []
   },
   "source": [
    "\n",
    "下面我们实现`MultiBoxDetection`函数来执行非极大值抑制。\n"
   ]
  },
  {
   "cell_type": "markdown",
   "metadata": {
    "graffitiCellId": "id_rba2nhy",
    "id": "C170FF17CDEF440F8BF378F3D8497D41",
    "jupyter": {},
    "mdEditEnable": false,
    "slideshow": {
     "slide_type": "slide"
    },
    "tags": []
   },
   "source": [
    "%% Below, type any markdown to display in the Graffiti tip.\n",
    "%% Then run this cell to save it.\n",
    "sorted"
   ]
  },
  {
   "cell_type": "code",
   "execution_count": 26,
   "metadata": {
    "graffitiCellId": "id_rt5r686",
    "id": "A67A98C985F6464789960CD04D518F34",
    "jupyter": {},
    "scrolled": false,
    "slideshow": {
     "slide_type": "slide"
    },
    "tags": []
   },
   "outputs": [],
   "source": [
    "# 以下函数已保存在d2lzh_pytorch包中方便以后使用\n",
    "from collections import namedtuple\n",
    "Pred_BB_Info = namedtuple(\"Pred_BB_Info\", [\"index\", \"class_id\", \"confidence\", \"xyxy\"])\n",
    "\n",
    "def non_max_suppression(bb_info_list, nms_threshold = 0.5):\n",
    "    \"\"\"\n",
    "    非极大抑制处理预测的边界框\n",
    "    Args:\n",
    "        bb_info_list: Pred_BB_Info的列表, 包含预测类别、置信度等信息\n",
    "        nms_threshold: 阈值\n",
    "    Returns:\n",
    "        output: Pred_BB_Info的列表, 只保留过滤后的边界框信息\n",
    "    \"\"\"\n",
    "    output = []\n",
    "    # 先根据置信度从高到低排序\n",
    "    sorted_bb_info_list = sorted(bb_info_list, key = lambda x: x.confidence, reverse=True)\n",
    "    \n",
    "    # 循环遍历删除冗余输出\n",
    "    while len(sorted_bb_info_list) != 0:\n",
    "        best = sorted_bb_info_list.pop(0)\n",
    "        output.append(best)\n",
    "        \n",
    "        if len(sorted_bb_info_list) == 0:\n",
    "            break\n",
    "\n",
    "        bb_xyxy = []\n",
    "        for bb in sorted_bb_info_list:\n",
    "            bb_xyxy.append(bb.xyxy)\n",
    "        \n",
    "        iou = compute_jaccard(torch.tensor([best.xyxy]), \n",
    "                              torch.tensor(bb_xyxy))[0] # shape: (len(sorted_bb_info_list), )\n",
    "        \n",
    "        n = len(sorted_bb_info_list)\n",
    "        sorted_bb_info_list = [sorted_bb_info_list[i] for i in range(n) if iou[i] <= nms_threshold]\n",
    "    return output\n",
    "\n",
    "def MultiBoxDetection(cls_prob, loc_pred, anchor, nms_threshold = 0.5):\n",
    "    \"\"\"\n",
    "    # 按照「9.4.1. 生成多个锚框」所讲的实现, anchor表示成归一化(xmin, ymin, xmax, ymax).\n",
    "    https://zh.d2l.ai/chapter_computer-vision/anchor.html\n",
    "    Args:\n",
    "        cls_prob: 经过softmax后得到的各个锚框的预测概率, shape:(bn, 预测总类别数+1, 锚框个数)\n",
    "        loc_pred: 预测的各个锚框的偏移量, shape:(bn, 锚框个数*4)\n",
    "        anchor: MultiBoxPrior输出的默认锚框, shape: (1, 锚框个数, 4)\n",
    "        nms_threshold: 非极大抑制中的阈值\n",
    "    Returns:\n",
    "        所有锚框的信息, shape: (bn, 锚框个数, 6)\n",
    "        每个锚框信息由[class_id, confidence, xmin, ymin, xmax, ymax]表示\n",
    "        class_id=-1 表示背景或在非极大值抑制中被移除了\n",
    "    \"\"\"\n",
    "    assert len(cls_prob.shape) == 3 and len(loc_pred.shape) == 2 and len(anchor.shape) == 3\n",
    "    bn = cls_prob.shape[0]\n",
    "    \n",
    "    def MultiBoxDetection_one(c_p, l_p, anc, nms_threshold = 0.5):\n",
    "        \"\"\"\n",
    "        MultiBoxDetection的辅助函数, 处理batch中的一个\n",
    "        Args:\n",
    "            c_p: (预测总类别数+1, 锚框个数)\n",
    "            l_p: (锚框个数*4, )\n",
    "            anc: (锚框个数, 4)\n",
    "            nms_threshold: 非极大抑制中的阈值\n",
    "        Return:\n",
    "            output: (锚框个数, 6)\n",
    "        \"\"\"\n",
    "        pred_bb_num = c_p.shape[1]\n",
    "        anc = (anc + l_p.view(pred_bb_num, 4)).detach().cpu().numpy() # 加上偏移量\n",
    "        \n",
    "        confidence, class_id = torch.max(c_p, 0)\n",
    "        confidence = confidence.detach().cpu().numpy()\n",
    "        class_id = class_id.detach().cpu().numpy()\n",
    "        \n",
    "        pred_bb_info = [Pred_BB_Info(\n",
    "                            index = i,\n",
    "                            class_id = class_id[i] - 1, # 正类label从0开始\n",
    "                            confidence = confidence[i],\n",
    "                            xyxy=[*anc[i]]) # xyxy是个列表\n",
    "                        for i in range(pred_bb_num)]\n",
    "        \n",
    "        # 正类的index\n",
    "        obj_bb_idx = [bb.index for bb in non_max_suppression(pred_bb_info, nms_threshold)]\n",
    "        \n",
    "        output = []\n",
    "        for bb in pred_bb_info:\n",
    "            output.append([\n",
    "                (bb.class_id if bb.index in obj_bb_idx else -1.0),\n",
    "                bb.confidence,\n",
    "                *bb.xyxy\n",
    "            ])\n",
    "            \n",
    "        return torch.tensor(output) # shape: (锚框个数, 6)\n",
    "    \n",
    "    batch_output = []\n",
    "    for b in range(bn):\n",
    "        batch_output.append(MultiBoxDetection_one(cls_prob[b], loc_pred[b], anchor[0], nms_threshold))\n",
    "    \n",
    "    return torch.stack(batch_output)"
   ]
  },
  {
   "cell_type": "markdown",
   "metadata": {
    "graffitiCellId": "id_wwilk2p",
    "id": "CB6DCC447C404CB5A0A536EBC835F83A",
    "jupyter": {},
    "mdEditEnable": false,
    "slideshow": {
     "slide_type": "slide"
    },
    "tags": []
   },
   "source": [
    "然后我们运行`MultiBoxDetection`函数并设阈值为0.5。这里为输入都增加了样本维。我们看到，返回的结果的形状为(批量大小, 锚框个数, 6)。其中每一行的6个元素代表同一个预测边界框的输出信息。第一个元素是索引从0开始计数的预测类别（0为狗，1为猫），其中-1表示背景或在非极大值抑制中被移除。第二个元素是预测边界框的置信度。剩余的4个元素分别是预测边界框左上角的$x$和$y$轴坐标以及右下角的$x$和$y$轴坐标（值域在0到1之间）。\n"
   ]
  },
  {
   "cell_type": "code",
   "execution_count": 27,
   "metadata": {
    "graffitiCellId": "id_jynblea",
    "id": "A29A219B8C7046648EF5AFE3F45E0CB6",
    "jupyter": {},
    "scrolled": false,
    "slideshow": {
     "slide_type": "slide"
    },
    "tags": []
   },
   "outputs": [
    {
     "data": {
      "text/plain": [
       "tensor([[[ 0.0000,  0.9000,  0.1000,  0.0800,  0.5200,  0.9200],\n",
       "         [-1.0000,  0.8000,  0.0800,  0.2000,  0.5600,  0.9500],\n",
       "         [-1.0000,  0.7000,  0.1500,  0.3000,  0.6200,  0.9100],\n",
       "         [ 1.0000,  0.9000,  0.5500,  0.2000,  0.9000,  0.8800]]])"
      ]
     },
     "execution_count": 27,
     "metadata": {},
     "output_type": "execute_result"
    }
   ],
   "source": [
    "output = MultiBoxDetection(\n",
    "    cls_probs.unsqueeze(dim=0), offset_preds.unsqueeze(dim=0),\n",
    "    anchors.unsqueeze(dim=0), nms_threshold=0.5)\n",
    "output"
   ]
  },
  {
   "cell_type": "code",
   "execution_count": 28,
   "metadata": {
    "graffitiCellId": "id_9glop5q",
    "id": "20C0E67E283D4D4BBF20B9E2A4F46915",
    "jupyter": {},
    "scrolled": false,
    "slideshow": {
     "slide_type": "slide"
    },
    "tags": []
   },
   "outputs": [
    {
     "data": {
      "text/html": [
       "<img src=\"https://cdn.kesci.com/rt_upload/20C0E67E283D4D4BBF20B9E2A4F46915/q5vsen38ta.svg\">"
      ],
      "text/plain": [
       "<Figure size 252x180 with 1 Axes>"
      ]
     },
     "metadata": {
      "needs_background": "light"
     },
     "output_type": "display_data"
    }
   ],
   "source": [
    "fig = d2l.plt.imshow(img)\n",
    "for i in output[0].detach().cpu().numpy():\n",
    "    if i[0] == -1:\n",
    "        continue\n",
    "    label = ('dog=', 'cat=')[int(i[0])] + str(i[1])\n",
    "    show_bboxes(fig.axes, [torch.tensor(i[2:]) * bbox_scale], label)"
   ]
  },
  {
   "cell_type": "markdown",
   "metadata": {
    "graffitiCellId": "id_8lpy48w",
    "id": "BBC736BCDAC34F6C87F6E5F3494E5DEE",
    "jupyter": {},
    "mdEditEnable": false,
    "slideshow": {
     "slide_type": "slide"
    },
    "tags": []
   },
   "source": [
    "\n",
    "实践中，我们可以在执行非极大值抑制前将置信度较低的预测边界框移除，从而减小非极大值抑制的计算量。我们还可以筛选非极大值抑制的输出，例如，只保留其中置信度较高的结果作为最终输出。\n",
    "\n",
    "\n",
    "## 小结\n",
    "\n",
    "* 以每个像素为中心，生成多个大小和宽高比不同的锚框。\n",
    "* 交并比是两个边界框相交面积与相并面积之比。\n",
    "* 在训练集中，为每个锚框标注两类标签：一是锚框所含目标的类别；二是真实边界框相对锚框的偏移量。\n",
    "* 预测时，可以使用非极大值抑制来移除相似的预测边界框，从而令结果简洁。"
   ]
  },
  {
   "cell_type": "markdown",
   "metadata": {
    "graffitiCellId": "id_95p6zbf",
    "id": "E9BC5338559643EC93B278A8DFFD82C3",
    "jupyter": {},
    "mdEditEnable": false,
    "slideshow": {
     "slide_type": "slide"
    },
    "tags": []
   },
   "source": [
    "# 9.5 多尺度目标检测\n",
    "在9.4节（锚框）中，我们在实验中以输入图像的每个像素为中心生成多个锚框。这些锚框是对输入图像不同区域的采样。然而，如果以图像每个像素为中心都生成锚框，很容易生成过多锚框而造成计算量过大。举个例子，假设输入图像的高和宽分别为561像素和728像素，如果以每个像素为中心生成5个不同形状的锚框，那么一张图像上则需要标注并预测200多万个锚框（$561 \\times 728 \\times 5$）。\n",
    "\n",
    "减少锚框个数并不难。一种简单的方法是在输入图像中均匀采样一小部分像素，并以采样的像素为中心生成锚框。此外，在不同尺度下，我们可以生成不同数量和不同大小的锚框。值得注意的是，较小目标比较大目标在图像上出现位置的可能性更多。举个简单的例子：形状为$1 \\times 1$、$1 \\times 2$和$2 \\times 2$的目标在形状为$2 \\times 2$的图像上可能出现的位置分别有4、2和1种。因此，当使用较小锚框来检测较小目标时，我们可以采样较多的区域；而当使用较大锚框来检测较大目标时，我们可以采样较少的区域。\n",
    "\n",
    "为了演示如何多尺度生成锚框，我们先读取一张图像。它的高和宽分别为561像素和728像素。\n"
   ]
  },
  {
   "cell_type": "code",
   "execution_count": 29,
   "metadata": {
    "graffitiCellId": "id_cmjn92g",
    "id": "4B95651E081141D68C632D83EB64E9D4",
    "jupyter": {},
    "scrolled": false,
    "slideshow": {
     "slide_type": "slide"
    },
    "tags": []
   },
   "outputs": [
    {
     "data": {
      "text/plain": [
       "(728, 561)"
      ]
     },
     "execution_count": 29,
     "metadata": {},
     "output_type": "execute_result"
    }
   ],
   "source": [
    "w, h = img.size\n",
    "w, h"
   ]
  },
  {
   "cell_type": "code",
   "execution_count": 30,
   "metadata": {
    "graffitiCellId": "id_lsu3iq6",
    "id": "4240391E34A44AD389138A6B7342C9C8",
    "jupyter": {},
    "scrolled": false,
    "slideshow": {
     "slide_type": "slide"
    },
    "tags": []
   },
   "outputs": [],
   "source": [
    "d2l.set_figsize()\n",
    "\n",
    "def display_anchors(fmap_w, fmap_h, s):\n",
    "    # 前两维的取值不影响输出结果(原书这里是(1, 10, fmap_w, fmap_h), 我认为错了)\n",
    "    fmap = torch.zeros((1, 10, fmap_h, fmap_w), dtype=torch.float32)\n",
    "    \n",
    "    # 平移所有锚框使均匀分布在图片上\n",
    "    offset_x, offset_y = 1.0/fmap_w, 1.0/fmap_h\n",
    "    anchors = d2l.MultiBoxPrior(fmap, sizes=s, ratios=[1, 2, 0.5]) + \\\n",
    "        torch.tensor([offset_x/2, offset_y/2, offset_x/2, offset_y/2])\n",
    "    \n",
    "    bbox_scale = torch.tensor([[w, h, w, h]], dtype=torch.float32)\n",
    "    d2l.show_bboxes(d2l.plt.imshow(img).axes,\n",
    "                    anchors[0] * bbox_scale)"
   ]
  },
  {
   "cell_type": "code",
   "execution_count": 31,
   "metadata": {
    "graffitiCellId": "id_0lu1o67",
    "id": "FFD6EFB60BAC460A83015115A93376B0",
    "jupyter": {},
    "scrolled": false,
    "slideshow": {
     "slide_type": "slide"
    },
    "tags": []
   },
   "outputs": [
    {
     "data": {
      "text/html": [
       "<img src=\"https://cdn.kesci.com/rt_upload/FFD6EFB60BAC460A83015115A93376B0/q5vsflnl9m.svg\">"
      ],
      "text/plain": [
       "<Figure size 252x180 with 1 Axes>"
      ]
     },
     "metadata": {
      "needs_background": "light"
     },
     "output_type": "display_data"
    }
   ],
   "source": [
    "display_anchors(fmap_w=4, fmap_h=2, s=[0.15])"
   ]
  },
  {
   "cell_type": "code",
   "execution_count": 32,
   "metadata": {
    "graffitiCellId": "id_hyhlrm3",
    "id": "B4223FD7BD5D4320B1FDB53445264F79",
    "jupyter": {},
    "scrolled": false,
    "slideshow": {
     "slide_type": "slide"
    },
    "tags": []
   },
   "outputs": [
    {
     "data": {
      "text/html": [
       "<img src=\"https://cdn.kesci.com/rt_upload/B4223FD7BD5D4320B1FDB53445264F79/q5vsfnl3b0.svg\">"
      ],
      "text/plain": [
       "<Figure size 252x180 with 1 Axes>"
      ]
     },
     "metadata": {
      "needs_background": "light"
     },
     "output_type": "display_data"
    }
   ],
   "source": [
    "display_anchors(fmap_w=2, fmap_h=1, s=[0.4])"
   ]
  },
  {
   "cell_type": "code",
   "execution_count": 33,
   "metadata": {
    "graffitiCellId": "id_8nnyfb5",
    "id": "1A763C2BB5BA404092B31C190A963A17",
    "jupyter": {},
    "scrolled": false,
    "slideshow": {
     "slide_type": "slide"
    },
    "tags": []
   },
   "outputs": [
    {
     "data": {
      "text/html": [
       "<img src=\"https://cdn.kesci.com/rt_upload/1A763C2BB5BA404092B31C190A963A17/q5vsfq54gp.svg\">"
      ],
      "text/plain": [
       "<Figure size 252x180 with 1 Axes>"
      ]
     },
     "metadata": {
      "needs_background": "light"
     },
     "output_type": "display_data"
    }
   ],
   "source": [
    "display_anchors(fmap_w=1, fmap_h=1, s=[0.8])"
   ]
  },
  {
   "cell_type": "code",
   "execution_count": null,
   "metadata": {
    "id": "BBE55A824CB140118F472F552943ABBB",
    "jupyter": {},
    "slideshow": {
     "slide_type": "slide"
    },
    "tags": []
   },
   "outputs": [],
   "source": []
  }
 ],
 "metadata": {
  "kernelspec": {
   "display_name": "Python 3",
   "language": "python",
   "name": "python3"
  },
  "language_info": {
   "codemirror_mode": {
    "name": "ipython",
    "version": 3
   },
   "file_extension": ".py",
   "mimetype": "text/x-python",
   "name": "python",
   "nbconvert_exporter": "python",
   "pygments_lexer": "ipython3",
   "version": "3.6.5"
  }
 },
 "nbformat": 4,
 "nbformat_minor": 1
}
