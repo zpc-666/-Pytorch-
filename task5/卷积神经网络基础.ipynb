{
 "cells": [
  {
   "cell_type": "code",
   "execution_count": 1,
   "metadata": {},
   "outputs": [],
   "source": [
    "import torch as t\n",
    "import torch.nn as nn\n",
    "\n",
    "#corr2d函数实现二维互相关运算\n",
    "def corr2d(X,K):\n",
    "    H,W=X.shape\n",
    "    h,w=K.shape\n",
    "    Y=t.zeros(H-h+1,W-w+1)\n",
    "    for i in range(Y.shape[0]):\n",
    "        for j in range(Y.shape[1]):\n",
    "            Y[i,j]=(X[i:i+h,j:j+w]*K).sum()\n",
    "    return Y"
   ]
  },
  {
   "cell_type": "code",
   "execution_count": 2,
   "metadata": {},
   "outputs": [
    {
     "name": "stdout",
     "output_type": "stream",
     "text": [
      "tensor([[19., 25.],\n",
      "        [37., 43.]])\n"
     ]
    }
   ],
   "source": [
    "X=t.tensor([[0,1,2],[3,4,5],[6,7,8]])\n",
    "K=t.tensor([[0,1],[2,3]])\n",
    "Y=corr2d(X,K)\n",
    "print(Y)"
   ]
  },
  {
   "cell_type": "code",
   "execution_count": 3,
   "metadata": {},
   "outputs": [],
   "source": [
    "#二维卷积层\n",
    "class Conv2D(nn.Module):\n",
    "    def __init__(self,kernel_size):\n",
    "        super(Conv2D,self).__init__()\n",
    "        self.weight=nn.Parameter(t.randn(kernel_size))\n",
    "        self.bias=nn.Parameter(t.randn(1))\n",
    "        \n",
    "    def forward(self,x):\n",
    "        return corr2d(x,self.weight)+self.bias"
   ]
  },
  {
   "cell_type": "code",
   "execution_count": 11,
   "metadata": {},
   "outputs": [
    {
     "name": "stdout",
     "output_type": "stream",
     "text": [
      "tensor([[1., 1., 0., 0., 0., 0., 1., 1.],\n",
      "        [1., 1., 0., 0., 0., 0., 1., 1.],\n",
      "        [1., 1., 0., 0., 0., 0., 1., 1.],\n",
      "        [1., 1., 0., 0., 0., 0., 1., 1.],\n",
      "        [1., 1., 0., 0., 0., 0., 1., 1.],\n",
      "        [1., 1., 0., 0., 0., 0., 1., 1.]])\n",
      "tensor([[ 0.,  1.,  0.,  0.,  0., -1.,  0.],\n",
      "        [ 0.,  1.,  0.,  0.,  0., -1.,  0.],\n",
      "        [ 0.,  1.,  0.,  0.,  0., -1.,  0.],\n",
      "        [ 0.,  1.,  0.,  0.,  0., -1.,  0.],\n",
      "        [ 0.,  1.,  0.,  0.,  0., -1.,  0.],\n",
      "        [ 0.,  1.,  0.,  0.,  0., -1.,  0.]])\n"
     ]
    }
   ],
   "source": [
    "X=t.ones(6,8)\n",
    "Y=t.zeros(6,7)\n",
    "X[:,2:6]=0\n",
    "Y[:,1]=1\n",
    "Y[:,5]=-1\n",
    "print(X)\n",
    "print(Y)"
   ]
  },
  {
   "cell_type": "markdown",
   "metadata": {},
   "source": [
    "#我们希望学习一个$1 \\times 2$卷积层，通过卷积层来检测颜色边缘。"
   ]
  },
  {
   "cell_type": "code",
   "execution_count": 12,
   "metadata": {},
   "outputs": [
    {
     "name": "stdout",
     "output_type": "stream",
     "text": [
      "Step 5,loss 10.875\n",
      "Step 10,loss 2.898\n",
      "Step 15,loss 0.793\n",
      "Step 20,loss 0.219\n",
      "Step 25,loss 0.061\n",
      "Step 30,loss 0.017\n",
      "tensor([[ 0.9664, -0.9675]])\n",
      "tensor([0.0006])\n"
     ]
    }
   ],
   "source": [
    "conv2d=Conv2D(kernel_size=(1,2))#因为检测的是水平边缘，故没必要卷积核高超过1，宽为2来检测水平颜色变化\n",
    "step=30\n",
    "lr=0.01\n",
    "for i in range(step):\n",
    "    Y_hat=conv2d(X)\n",
    "    l=((Y_hat-Y)**2).sum()#batch_size=1\n",
    "    l.backward()\n",
    "    #梯度下降\n",
    "    conv2d.weight.data-=lr*conv2d.weight.grad\n",
    "    conv2d.bias.data-=lr*conv2d.bias.grad\n",
    "    \n",
    "    #梯度清零\n",
    "    conv2d.weight.grad.zero_()\n",
    "    conv2d.bias.grad.zero_()\n",
    "    if (i+1)%5==0:\n",
    "        print('Step %d,loss %.3f'%(i+1,l.item()))\n",
    "    \n",
    "print(conv2d.weight.data)\n",
    "print(conv2d.bias.data)"
   ]
  },
  {
   "cell_type": "code",
   "execution_count": 13,
   "metadata": {},
   "outputs": [
    {
     "name": "stdout",
     "output_type": "stream",
     "text": [
      "tensor([[-4.5833e-04,  9.6702e-01,  5.8284e-04,  5.8284e-04,  5.8284e-04,\n",
      "         -9.6690e-01, -4.5833e-04],\n",
      "        [-4.5833e-04,  9.6702e-01,  5.8284e-04,  5.8284e-04,  5.8284e-04,\n",
      "         -9.6690e-01, -4.5833e-04],\n",
      "        [-4.5833e-04,  9.6702e-01,  5.8284e-04,  5.8284e-04,  5.8284e-04,\n",
      "         -9.6690e-01, -4.5833e-04],\n",
      "        [-4.5833e-04,  9.6702e-01,  5.8284e-04,  5.8284e-04,  5.8284e-04,\n",
      "         -9.6690e-01, -4.5833e-04],\n",
      "        [-4.5833e-04,  9.6702e-01,  5.8284e-04,  5.8284e-04,  5.8284e-04,\n",
      "         -9.6690e-01, -4.5833e-04],\n",
      "        [-4.5833e-04,  9.6702e-01,  5.8284e-04,  5.8284e-04,  5.8284e-04,\n",
      "         -9.6690e-01, -4.5833e-04]], grad_fn=<AddBackward0>)\n"
     ]
    }
   ],
   "source": [
    "Y_hat=conv2d(X)\n",
    "print(Y_hat)"
   ]
  },
  {
   "cell_type": "code",
   "execution_count": 16,
   "metadata": {},
   "outputs": [
    {
     "name": "stdout",
     "output_type": "stream",
     "text": [
      "torch.Size([4, 2, 3, 5])\n",
      "Y.shape:  torch.Size([4, 3, 3, 5])\n",
      "weight.shape:  torch.Size([3, 2, 3, 5])\n",
      "bias.shape:  torch.Size([3])\n"
     ]
    }
   ],
   "source": [
    "X=t.rand(4,2,3,5)\n",
    "print(X.shape)\n",
    "\n",
    "conv2d=nn.Conv2d(in_channels=2,out_channels=3,kernel_size=(3, 5), stride=1, padding=(1, 2))\n",
    "Y = conv2d(X)\n",
    "print('Y.shape: ', Y.shape)\n",
    "print('weight.shape: ', conv2d.weight.shape)\n",
    "print('bias.shape: ', conv2d.bias.shape)"
   ]
  },
  {
   "cell_type": "code",
   "execution_count": 19,
   "metadata": {},
   "outputs": [
    {
     "name": "stdout",
     "output_type": "stream",
     "text": [
      "tensor([[[[ 0.,  1.,  2.,  3.],\n",
      "          [ 4.,  5.,  6.,  7.],\n",
      "          [ 8.,  9., 10., 11.],\n",
      "          [12., 13., 14., 15.]],\n",
      "\n",
      "         [[16., 17., 18., 19.],\n",
      "          [20., 21., 22., 23.],\n",
      "          [24., 25., 26., 27.],\n",
      "          [28., 29., 30., 31.]]]])\n",
      "torch.Size([1, 2, 2, 4])\n"
     ]
    }
   ],
   "source": [
    "X = t.arange(32, dtype=t.float32).view(1, 2, 4, 4)\n",
    "pool2d = nn.MaxPool2d(kernel_size=3, padding=1, stride=(2, 1))\n",
    "Y = pool2d(X)\n",
    "print(X)\n",
    "print(Y.shape)"
   ]
  },
  {
   "cell_type": "code",
   "execution_count": null,
   "metadata": {},
   "outputs": [],
   "source": []
  }
 ],
 "metadata": {
  "kernelspec": {
   "display_name": "Python 3",
   "language": "python",
   "name": "python3"
  },
  "language_info": {
   "codemirror_mode": {
    "name": "ipython",
    "version": 3
   },
   "file_extension": ".py",
   "mimetype": "text/x-python",
   "name": "python",
   "nbconvert_exporter": "python",
   "pygments_lexer": "ipython3",
   "version": "3.6.5"
  }
 },
 "nbformat": 4,
 "nbformat_minor": 4
}
